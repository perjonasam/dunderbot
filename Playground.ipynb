{
 "cells": [
  {
   "cell_type": "code",
   "execution_count": 1,
   "metadata": {},
   "outputs": [],
   "source": [
    "%load_ext autoreload\n",
    "%autoreload 2"
   ]
  },
  {
   "cell_type": "code",
   "execution_count": 2,
   "metadata": {},
   "outputs": [],
   "source": [
    "%matplotlib inline"
   ]
  },
  {
   "cell_type": "code",
   "execution_count": 3,
   "metadata": {},
   "outputs": [],
   "source": [
    "import warnings\n",
    "warnings.filterwarnings('ignore')"
   ]
  },
  {
   "cell_type": "code",
   "execution_count": null,
   "metadata": {},
   "outputs": [
    {
     "name": "stdout",
     "output_type": "stream",
     "text": [
      "loading config from config/config.yml\n"
     ]
    }
   ],
   "source": [
    "from src.env.dunderbot_env import DunderBotEnv\n",
    "import src.run as run\n",
    "import src.load as load"
   ]
  },
  {
   "cell_type": "markdown",
   "metadata": {},
   "source": [
    "# TODO:\n",
    "\n",
    "- Visualize basic performance\n",
    "    * Deal with time vector being longer than value vector in TradingChart rendering\n",
    "- Add support for fractions of shares (and rename 'share' to 'asset')\n",
    "- Reinstate portfolio features\n",
    "- Refactor current reward and add some new ones\n",
    "- figure out how to normalize values properly\n",
    "    * do we have to account for prediction as well? That is, can/should we predict using values outside of 0-1 range?\n",
    "- understand the rendering, especially during learning\n",
    "- setup train/test functionality (separate reset functions? Multiple time periods for testing?)\n",
    "- add distributions of actions as output during training and predition (latter more important)\n",
    "- lock down the seeds (and decide in config from a few specific ones)\n",
    "- setup performance output, what we need to make data driven decision\n",
    "- Find as long time series of BTCUSD hourly (and daily) data as possible, quite shortright now\n",
    "- Check float number type\n"
   ]
  },
  {
   "cell_type": "markdown",
   "metadata": {},
   "source": [
    "# DONE: \n",
    "- add config\n",
    "- modularize rewards\n",
    "- own actions\n",
    "- add more detailed actions for buy and sell amounts (still Discrete, I believe)\n",
    "- wrap running code in function in main.py (to enable more dynamic data loading and train/test)\n",
    "- own observations\n",
    "- remove the bias when getting the observations (suggestion in the repo issues)\n",
    "- download more interesting data and manually preprocess\n",
    "- load interesting data, specified in config\n",
    "- understand the time steps in learn and predict\n",
    "- setup basic monitoring of training using TensorBoard"
   ]
  },
  {
   "cell_type": "markdown",
   "metadata": {},
   "source": [
    "# Run"
   ]
  },
  {
   "cell_type": "code",
   "execution_count": null,
   "metadata": {},
   "outputs": [],
   "source": [
    "%%time\n",
    "df = load.load_OHLC_data()\n",
    "env = run.preprocess(df=df)\n",
    "model = run.train(env=env, total_timesteps=10000)"
   ]
  },
  {
   "cell_type": "code",
   "execution_count": null,
   "metadata": {
    "scrolled": true
   },
   "outputs": [],
   "source": [
    "%%time\n",
    "run.predict(env=env, model=model, total_timesteps=10, rendermode='human')"
   ]
  },
  {
   "cell_type": "code",
   "execution_count": null,
   "metadata": {},
   "outputs": [],
   "source": []
  },
  {
   "cell_type": "code",
   "execution_count": null,
   "metadata": {},
   "outputs": [],
   "source": []
  }
 ],
 "metadata": {
  "kernelspec": {
   "display_name": "Python 3",
   "language": "python",
   "name": "python3"
  },
  "language_info": {
   "codemirror_mode": {
    "name": "ipython",
    "version": 3
   },
   "file_extension": ".py",
   "mimetype": "text/x-python",
   "name": "python",
   "nbconvert_exporter": "python",
   "pygments_lexer": "ipython3",
   "version": "3.7.3"
  },
  "toc": {
   "base_numbering": 1,
   "nav_menu": {},
   "number_sections": true,
   "sideBar": true,
   "skip_h1_title": false,
   "title_cell": "Table of Contents",
   "title_sidebar": "Contents",
   "toc_cell": false,
   "toc_position": {},
   "toc_section_display": true,
   "toc_window_display": true
  }
 },
 "nbformat": 4,
 "nbformat_minor": 2
}

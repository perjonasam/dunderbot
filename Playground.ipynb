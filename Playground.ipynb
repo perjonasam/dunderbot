{
 "cells": [
  {
   "cell_type": "code",
   "execution_count": 1,
   "metadata": {},
   "outputs": [],
   "source": [
    "%load_ext autoreload\n",
    "%autoreload 2"
   ]
  },
  {
   "cell_type": "code",
   "execution_count": 2,
   "metadata": {},
   "outputs": [
    {
     "name": "stdout",
     "output_type": "stream",
     "text": [
      "loading config from config/config.yml\n",
      "WARNING:tensorflow:\n",
      "The TensorFlow contrib module will not be included in TensorFlow 2.0.\n",
      "For more information, please see:\n",
      "  * https://github.com/tensorflow/community/blob/master/rfcs/20180907-contrib-sunset.md\n",
      "  * https://github.com/tensorflow/addons\n",
      "  * https://github.com/tensorflow/io (for I/O related ops)\n",
      "If you depend on functionality not listed there, please file an issue.\n",
      "\n"
     ]
    }
   ],
   "source": [
    "from src.env.dunderbot_env import DunderBotEnv\n",
    "import src.run as run\n",
    "import src.load as load"
   ]
  },
  {
   "cell_type": "markdown",
   "metadata": {},
   "source": [
    "# TODO:\n",
    "\n",
    "\n",
    "- load interesting data, specified in config\n",
    "- understand normalization of values\n",
    "- understand the rendering, especially during learning\n",
    "- understand the time steps in learn and predict\n",
    "- setup train/test functionality (separate reset functions? Multiple time periods for testing?)\n",
    "- add distributions of actions as output during training and predition (latter more important)\n",
    "- lock down the seeds (and decide in config from a few specific ones)\n",
    "- setup performance output, what we need to make data driven decision\n",
    "- Find as long time series of BTCUSD hourly (and daily) data as possible, quite shortright now\n"
   ]
  },
  {
   "cell_type": "markdown",
   "metadata": {},
   "source": [
    "# DONE: \n",
    "- add config\n",
    "- modularize rewards\n",
    "- own actions\n",
    "- add more detailed actions for buy and sell amounts (still Discrete, I believe)\n",
    "- wrap running code in function in main.py (to enable more dynamic data loading and train/test)\n",
    "- own observations\n",
    "- remove the bias when getting the observations (suggestion in the repo issues)"
   ]
  },
  {
   "cell_type": "markdown",
   "metadata": {},
   "source": [
    "# Run"
   ]
  },
  {
   "cell_type": "code",
   "execution_count": null,
   "metadata": {},
   "outputs": [
    {
     "name": "stderr",
     "output_type": "stream",
     "text": [
      "/code/src/env/dunderbot_env.py:82: RuntimeWarning: invalid value encountered in double_scalars\n",
      "  prev_cost + additional_cost) / (self.shares_held + shares_bought)\n"
     ]
    },
    {
     "name": "stdout",
     "output_type": "stream",
     "text": [
      "--------------------------------------\n",
      "| approxkl           | 0.00027140765 |\n",
      "| clipfrac           | 0.0           |\n",
      "| explained_variance | 5.19e-06      |\n",
      "| fps                | 219           |\n",
      "| n_updates          | 1             |\n",
      "| policy_entropy     | 2.1968966     |\n",
      "| policy_loss        | -0.003087244  |\n",
      "| serial_timesteps   | 128           |\n",
      "| time_elapsed       | 3.22e-05      |\n",
      "| total_timesteps    | 128           |\n",
      "| value_loss         | 111310090.0   |\n",
      "--------------------------------------\n",
      "--------------------------------------\n",
      "| approxkl           | 0.0007819383  |\n",
      "| clipfrac           | 0.0           |\n",
      "| explained_variance | 2.38e-07      |\n",
      "| fps                | 426           |\n",
      "| n_updates          | 10            |\n",
      "| policy_entropy     | 2.1890085     |\n",
      "| policy_loss        | -0.0061511537 |\n",
      "| serial_timesteps   | 1280          |\n",
      "| time_elapsed       | 3.05          |\n",
      "| total_timesteps    | 1280          |\n",
      "| value_loss         | 487802080.0   |\n",
      "--------------------------------------\n",
      "--------------------------------------\n",
      "| approxkl           | 0.00019146757 |\n",
      "| clipfrac           | 0.0           |\n",
      "| explained_variance | -0.000177     |\n",
      "| fps                | 431           |\n",
      "| n_updates          | 20            |\n",
      "| policy_entropy     | 2.1842153     |\n",
      "| policy_loss        | -0.003450451  |\n",
      "| serial_timesteps   | 2560          |\n",
      "| time_elapsed       | 6.25          |\n",
      "| total_timesteps    | 2560          |\n",
      "| value_loss         | 5429882.5     |\n",
      "--------------------------------------\n",
      "--------------------------------------\n",
      "| approxkl           | 0.00035918382 |\n",
      "| clipfrac           | 0.0           |\n",
      "| explained_variance | -3.58e-07     |\n",
      "| fps                | 409           |\n",
      "| n_updates          | 30            |\n",
      "| policy_entropy     | 1.3473371     |\n",
      "| policy_loss        | 0.0010635547  |\n",
      "| serial_timesteps   | 3840          |\n",
      "| time_elapsed       | 9.51          |\n",
      "| total_timesteps    | 3840          |\n",
      "| value_loss         | 2190276900.0  |\n",
      "--------------------------------------\n"
     ]
    }
   ],
   "source": [
    "%%time\n",
    "df = load.load_OHLC_data()\n",
    "env = run.preprocess(df=df)\n",
    "model = run.train(env=env, total_timesteps=20000)"
   ]
  },
  {
   "cell_type": "code",
   "execution_count": null,
   "metadata": {},
   "outputs": [],
   "source": [
    "%%time\n",
    "run.predict(env=env, model=model)"
   ]
  },
  {
   "cell_type": "code",
   "execution_count": null,
   "metadata": {},
   "outputs": [],
   "source": []
  }
 ],
 "metadata": {
  "kernelspec": {
   "display_name": "Python 3",
   "language": "python",
   "name": "python3"
  },
  "language_info": {
   "codemirror_mode": {
    "name": "ipython",
    "version": 3
   },
   "file_extension": ".py",
   "mimetype": "text/x-python",
   "name": "python",
   "nbconvert_exporter": "python",
   "pygments_lexer": "ipython3",
   "version": "3.7.3"
  },
  "toc": {
   "base_numbering": 1,
   "nav_menu": {},
   "number_sections": true,
   "sideBar": true,
   "skip_h1_title": false,
   "title_cell": "Table of Contents",
   "title_sidebar": "Contents",
   "toc_cell": false,
   "toc_position": {},
   "toc_section_display": true,
   "toc_window_display": true
  }
 },
 "nbformat": 4,
 "nbformat_minor": 2
}

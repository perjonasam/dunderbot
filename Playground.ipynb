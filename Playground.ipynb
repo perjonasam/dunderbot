{
 "cells": [
  {
   "cell_type": "code",
   "execution_count": 1,
   "metadata": {},
   "outputs": [],
   "source": [
    "%load_ext autoreload\n",
    "%autoreload 2"
   ]
  },
  {
   "cell_type": "code",
   "execution_count": 2,
   "metadata": {},
   "outputs": [
    {
     "name": "stdout",
     "output_type": "stream",
     "text": [
      "loading config from config/config.yml\n"
     ]
    }
   ],
   "source": [
    "from src.env.dunderbot_env import DunderBotEnv"
   ]
  },
  {
   "cell_type": "markdown",
   "metadata": {},
   "source": [
    "# TODO:\n",
    "- remove the bias when getting the observations (suggestion in the repo issues)\n",
    "- exchange data to something more interesting, consider implementing time steps\n",
    "- modularize actions\n",
    "- modularize observations (look at https://github.com/notadamking/RLTrader for (kinda) readable examples)\n",
    "- understand the rendering, especially during learning\n",
    "- understand the time steps in learn and predict\n"
   ]
  },
  {
   "cell_type": "markdown",
   "metadata": {},
   "source": [
    "# DONE: \n",
    "- add config\n",
    "- modularize rewards"
   ]
  },
  {
   "cell_type": "markdown",
   "metadata": {},
   "source": [
    "# Run main"
   ]
  },
  {
   "cell_type": "code",
   "execution_count": 3,
   "metadata": {},
   "outputs": [
    {
     "name": "stdout",
     "output_type": "stream",
     "text": [
      "WARNING:tensorflow:\n",
      "The TensorFlow contrib module will not be included in TensorFlow 2.0.\n",
      "For more information, please see:\n",
      "  * https://github.com/tensorflow/community/blob/master/rfcs/20180907-contrib-sunset.md\n",
      "  * https://github.com/tensorflow/addons\n",
      "  * https://github.com/tensorflow/io (for I/O related ops)\n",
      "If you depend on functionality not listed there, please file an issue.\n",
      "\n"
     ]
    }
   ],
   "source": [
    "import gym\n",
    "import json\n",
    "import datetime as dt\n",
    "\n",
    "from stable_baselines.common.policies import MlpPolicy\n",
    "from stable_baselines.common.vec_env import DummyVecEnv\n",
    "from stable_baselines import PPO2"
   ]
  },
  {
   "cell_type": "code",
   "execution_count": 4,
   "metadata": {},
   "outputs": [],
   "source": [
    "from src.env.dunderbot_env import DunderBotEnv\n",
    "\n",
    "import pandas as pd\n",
    "\n",
    "df = pd.read_csv('./data/input/AAPL.csv')\n",
    "df = df.sort_values('Date')\n",
    "df = df.drop(columns=['Unnamed: 0'])"
   ]
  },
  {
   "cell_type": "code",
   "execution_count": 5,
   "metadata": {},
   "outputs": [],
   "source": [
    "# The algorithms require a vectorized environment to run\n",
    "env = DummyVecEnv([lambda: DunderBotEnv(df)])"
   ]
  },
  {
   "cell_type": "code",
   "execution_count": null,
   "metadata": {
    "scrolled": true
   },
   "outputs": [
    {
     "name": "stderr",
     "output_type": "stream",
     "text": [
      "/code/src/env/dunderbot_env.py:80: RuntimeWarning: invalid value encountered in double_scalars\n",
      "  prev_cost + additional_cost) / (self.shares_held + shares_bought)\n"
     ]
    },
    {
     "name": "stdout",
     "output_type": "stream",
     "text": [
      "---------------------------------------\n",
      "| approxkl           | 1.8612021e-06  |\n",
      "| clipfrac           | 0.0            |\n",
      "| explained_variance | 4.05e-06       |\n",
      "| fps                | 184            |\n",
      "| n_updates          | 1              |\n",
      "| policy_entropy     | 2.8387444      |\n",
      "| policy_loss        | -0.00020099385 |\n",
      "| serial_timesteps   | 128            |\n",
      "| time_elapsed       | 2.98e-05       |\n",
      "| total_timesteps    | 128            |\n",
      "| value_loss         | 1104726.1      |\n",
      "---------------------------------------\n",
      "---------------------------------------\n",
      "| approxkl           | 2.9135248e-05  |\n",
      "| clipfrac           | 0.0            |\n",
      "| explained_variance | -0.0166        |\n",
      "| fps                | 320            |\n",
      "| n_updates          | 10             |\n",
      "| policy_entropy     | 2.8452947      |\n",
      "| policy_loss        | -0.00027136458 |\n",
      "| serial_timesteps   | 1280           |\n",
      "| time_elapsed       | 3.72           |\n",
      "| total_timesteps    | 1280           |\n",
      "| value_loss         | 315.40637      |\n",
      "---------------------------------------\n",
      "---------------------------------------\n",
      "| approxkl           | 8.899303e-06   |\n",
      "| clipfrac           | 0.0            |\n",
      "| explained_variance | -0.0411        |\n",
      "| fps                | 334            |\n",
      "| n_updates          | 20             |\n",
      "| policy_entropy     | 2.853849       |\n",
      "| policy_loss        | -0.00060158235 |\n",
      "| serial_timesteps   | 2560           |\n",
      "| time_elapsed       | 7.56           |\n",
      "| total_timesteps    | 2560           |\n",
      "| value_loss         | 554.51196      |\n",
      "---------------------------------------\n",
      "--------------------------------------\n",
      "| approxkl           | 2.0558653e-06 |\n",
      "| clipfrac           | 0.0           |\n",
      "| explained_variance | 0.00488       |\n",
      "| fps                | 356           |\n",
      "| n_updates          | 30            |\n",
      "| policy_entropy     | 2.860001      |\n",
      "| policy_loss        | 1.2462027e-05 |\n",
      "| serial_timesteps   | 3840          |\n",
      "| time_elapsed       | 12.1          |\n",
      "| total_timesteps    | 3840          |\n",
      "| value_loss         | 22.269537     |\n",
      "--------------------------------------\n",
      "--------------------------------------\n",
      "| approxkl           | 1.1190356e-06 |\n",
      "| clipfrac           | 0.0           |\n",
      "| explained_variance | -0.074        |\n",
      "| fps                | 354           |\n",
      "| n_updates          | 40            |\n",
      "| policy_entropy     | 2.8748608     |\n",
      "| policy_loss        | 2.2917287e-05 |\n",
      "| serial_timesteps   | 5120          |\n",
      "| time_elapsed       | 15.7          |\n",
      "| total_timesteps    | 5120          |\n",
      "| value_loss         | 102.69151     |\n",
      "--------------------------------------\n"
     ]
    }
   ],
   "source": [
    "model = PPO2(MlpPolicy, env, verbose=1)\n",
    "model.learn(total_timesteps=20000, log_interval=10)"
   ]
  },
  {
   "cell_type": "code",
   "execution_count": 10,
   "metadata": {},
   "outputs": [
    {
     "name": "stdout",
     "output_type": "stream",
     "text": [
      "Step: 1443\n",
      "Balance: 10000.0\n",
      "Shares held: 0 (Total sold: 0)\n",
      "Avg cost for held shares: 0 (Total sales value: 0.0)\n",
      "Net worth: 10000.0 (Max net worth: 10000)\n",
      "Profit: 0.0\n",
      "Step: 1543\n",
      "Balance: 11.691472281143433\n",
      "Shares held: 395 (Total sold: 422)\n",
      "Avg cost for held shares: 23.270186251843217 (Total sales value: 9189.364617994714)\n",
      "Net worth: 8809.593859555378 (Max net worth: 10000)\n",
      "Profit: -1190.406140444622\n",
      "Step: 1643\n",
      "Balance: 10466.87101389346\n",
      "Shares held: 0 (Total sold: 1689)\n",
      "Avg cost for held shares: 0 (Total sales value: 44853.21878186312)\n",
      "Net worth: 10466.87101389346 (Max net worth: 10738.394597585997)\n",
      "Profit: 466.87101389346026\n",
      "Step: 1743\n",
      "Balance: 11585.420210065102\n",
      "Shares held: 0 (Total sold: 2174)\n",
      "Avg cost for held shares: 0 (Total sales value: 65904.9347111777)\n",
      "Net worth: 11585.420210065102 (Max net worth: 11585.420210065102)\n",
      "Profit: 1585.4202100651019\n",
      "Step: 1843\n",
      "Balance: 459.8776737634189\n",
      "Shares held: 226 (Total sold: 2742)\n",
      "Avg cost for held shares: 36.486611252771006 (Total sales value: 97377.21879515532)\n",
      "Net worth: 8652.884926755938 (Max net worth: 12779.767999033877)\n",
      "Profit: -1347.115073244062\n",
      "Step: 1943\n",
      "Balance: 8244.465209802987\n",
      "Shares held: 14 (Total sold: 2979)\n",
      "Avg cost for held shares: 45.747176730969905 (Total sales value: 106305.48574946912)\n",
      "Net worth: 8971.190977207878 (Max net worth: 12779.767999033877)\n",
      "Profit: -1028.809022792122\n",
      "Step: 2043\n",
      "Balance: 8112.750658181518\n",
      "Shares held: 2 (Total sold: 3171)\n",
      "Avg cost for held shares: 76.51716407349811 (Total sales value: 116252.18397819258)\n",
      "Net worth: 8249.678682650387 (Max net worth: 12779.767999033877)\n",
      "Profit: -1750.3213173496133\n",
      "Step: 2143\n",
      "Balance: 8660.611103221207\n",
      "Shares held: 0 (Total sold: 3302)\n",
      "Avg cost for held shares: 0 (Total sales value: 125251.48211536101)\n",
      "Net worth: 8660.611103221207 (Max net worth: 12779.767999033877)\n",
      "Profit: -1339.3888967787934\n",
      "Step: 2243\n",
      "Balance: 9699.78893155849\n",
      "Shares held: 3 (Total sold: 3672)\n",
      "Avg cost for held shares: 79.70883049510455 (Total sales value: 152616.77323832613)\n",
      "Net worth: 9975.537361737346 (Max net worth: 12779.767999033877)\n",
      "Profit: -24.462638262653854\n",
      "Step: 2343\n",
      "Balance: 10251.028394519977\n",
      "Shares held: 0 (Total sold: 3886)\n",
      "Avg cost for held shares: 0 (Total sales value: 171646.57675508835)\n",
      "Net worth: 10251.028394519977 (Max net worth: 12779.767999033877)\n",
      "Profit: 251.02839451997716\n",
      "Step: 2443\n",
      "Balance: 9868.758935481917\n",
      "Shares held: 0 (Total sold: 3994)\n",
      "Avg cost for held shares: 0 (Total sales value: 185418.3219625271)\n",
      "Net worth: 9868.758935481917 (Max net worth: 12779.767999033877)\n",
      "Profit: -131.24106451808257\n",
      "Step: 2543\n",
      "Balance: 8732.53821580325\n",
      "Shares held: 1 (Total sold: 4017)\n",
      "Avg cost for held shares: 177.83964213822097 (Total sales value: 188550.25265416573)\n",
      "Net worth: 8859.594872233873 (Max net worth: 12779.767999033877)\n",
      "Profit: -1140.4051277661274\n",
      "Step: 2643\n",
      "Balance: 11127.325380952188\n",
      "Shares held: 0 (Total sold: 4085)\n",
      "Avg cost for held shares: 0 (Total sales value: 199620.75994543036)\n",
      "Net worth: 11127.325380952188 (Max net worth: 12779.767999033877)\n",
      "Profit: 1127.3253809521884\n",
      "Step: 2743\n",
      "Balance: 9084.428697526448\n",
      "Shares held: 9 (Total sold: 4193)\n",
      "Avg cost for held shares: 88.29618826336265 (Total sales value: 213107.06154524977)\n",
      "Net worth: 9930.084077711334 (Max net worth: 12779.767999033877)\n",
      "Profit: -69.91592228866648\n",
      "Step: 2843\n",
      "Balance: 8503.992522119119\n",
      "Shares held: 11 (Total sold: 4315)\n",
      "Avg cost for held shares: 96.35881957965665 (Total sales value: 224630.6223813526)\n",
      "Net worth: 9852.818845965005 (Max net worth: 12779.767999033877)\n",
      "Profit: -147.18115403499542\n",
      "Step: 2943\n",
      "Balance: 9995.220120117234\n",
      "Shares held: 0 (Total sold: 4326)\n",
      "Avg cost for held shares: 0 (Total sales value: 226121.84997935066)\n",
      "Net worth: 9995.220120117234 (Max net worth: 12779.767999033877)\n",
      "Profit: -4.779879882766181\n",
      "Step: 3043\n",
      "Balance: 9995.220120117234\n",
      "Shares held: 0 (Total sold: 4326)\n",
      "Avg cost for held shares: 0 (Total sales value: 226121.84997935066)\n",
      "Net worth: 9995.220120117234 (Max net worth: 12779.767999033877)\n",
      "Profit: -4.779879882766181\n",
      "Step: 3143\n",
      "Balance: 9995.220120117234\n",
      "Shares held: 0 (Total sold: 4326)\n",
      "Avg cost for held shares: 0 (Total sales value: 226121.84997935066)\n",
      "Net worth: 9995.220120117234 (Max net worth: 12779.767999033877)\n",
      "Profit: -4.779879882766181\n",
      "Step: 3243\n",
      "Balance: 10007.127332729711\n",
      "Shares held: 0 (Total sold: 4332)\n",
      "Avg cost for held shares: 0 (Total sales value: 227681.00705473893)\n",
      "Net worth: 10007.127332729711 (Max net worth: 12779.767999033877)\n",
      "Profit: 7.12733272971127\n",
      "Step: 3343\n",
      "Balance: 10007.127332729711\n",
      "Shares held: 0 (Total sold: 4332)\n",
      "Avg cost for held shares: 0 (Total sales value: 227681.00705473893)\n",
      "Net worth: 10007.127332729711 (Max net worth: 12779.767999033877)\n",
      "Profit: 7.12733272971127\n"
     ]
    }
   ],
   "source": [
    "obs = env.reset()\n",
    "for i in range(2000):\n",
    "    action, _states = model.predict(obs)\n",
    "    obs, rewards, done, info = env.step(action)\n",
    "    if i % 100 == 0:\n",
    "        env.render()"
   ]
  },
  {
   "cell_type": "code",
   "execution_count": null,
   "metadata": {},
   "outputs": [],
   "source": []
  }
 ],
 "metadata": {
  "kernelspec": {
   "display_name": "Python 3",
   "language": "python",
   "name": "python3"
  },
  "language_info": {
   "codemirror_mode": {
    "name": "ipython",
    "version": 3
   },
   "file_extension": ".py",
   "mimetype": "text/x-python",
   "name": "python",
   "nbconvert_exporter": "python",
   "pygments_lexer": "ipython3",
   "version": "3.7.3"
  },
  "toc": {
   "base_numbering": 1,
   "nav_menu": {},
   "number_sections": true,
   "sideBar": true,
   "skip_h1_title": false,
   "title_cell": "Table of Contents",
   "title_sidebar": "Contents",
   "toc_cell": false,
   "toc_position": {},
   "toc_section_display": true,
   "toc_window_display": true
  }
 },
 "nbformat": 4,
 "nbformat_minor": 2
}

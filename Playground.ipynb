{
 "cells": [
  {
   "cell_type": "code",
   "execution_count": 1,
   "metadata": {
    "scrolled": true
   },
   "outputs": [
    {
     "name": "stdout",
     "output_type": "stream",
     "text": [
      "WARNING:tensorflow:\n",
      "The TensorFlow contrib module will not be included in TensorFlow 2.0.\n",
      "For more information, please see:\n",
      "  * https://github.com/tensorflow/community/blob/master/rfcs/20180907-contrib-sunset.md\n",
      "  * https://github.com/tensorflow/addons\n",
      "  * https://github.com/tensorflow/io (for I/O related ops)\n",
      "If you depend on functionality not listed there, please file an issue.\n",
      "\n",
      "loading config from config/config.yml\n"
     ]
    }
   ],
   "source": [
    "import pandas as pd\n",
    "import numpy as np\n",
    "from datetime import datetime\n",
    "\n",
    "import warnings\n",
    "warnings.filterwarnings('ignore')\n",
    "\n",
    "from src.env.DunderBotEnv import DunderBotEnv\n",
    "import src.run as run\n",
    "import src.load as load\n",
    "import src.preprocess as preprocess\n",
    "import src.data_raw as data_raw\n",
    "from src.util.run_util import create_timedelta_and_plot\n",
    "\n",
    "from src.util.config import get_config\n",
    "config = get_config()\n",
    "\n",
    "%load_ext autoreload\n",
    "%autoreload 2\n",
    "%matplotlib inline"
   ]
  },
  {
   "cell_type": "markdown",
   "metadata": {},
   "source": [
    "# TODO:\n",
    "\n",
    "- Clip trades so we can't have negative assets_held\n",
    "- Scale colors better for plotted trades\n",
    "- Go back to basic concepts like epochs to understand the Discord discussions perfectly. Kinda link their terminology to the one of stable baselines.\n",
    "- Double check all available reward functions and classes are fast\n",
    "    * Dump or rewrite the incremental net worth\n",
    "- Experiment: Test different setting of exploration\n",
    "- Experiment: longer training\n",
    "- Experiment: use minute granularity data\n",
    "- Experiment: smaller and more updates, i.e. fewer cores.\n",
    "- Experiment: Use discounted rewards during training to stop training?\n",
    "- Experiment: add slow TI features\n",
    "- Experiment: smaller time window for sortino calculation\n",
    "- Experiment: Discover new promising reward functions (e.g. something more direct on profits?)\n",
    "- Calculate and show daily and 30 day trading overturn in old fashioned currency\n",
    "- Download and enable order book data (how do you aggregate orders in time bins?)\n",
    "- Experiment with orders as features\n",
    "    * e.g. shape of order book etc.\n",
    "- Experiments: Test additional models to PPO2. Be careful though, many require different setting in which to run optimally.\n",
    "- Consider other periods for TI:s, e.g. see https://medium.com/@coinloop/technical-analysis-indicators-and-how-to-use-them-aa0fa706051 and consider having some fixed in time (controlled in config)\n",
    "- Optimize to save some time every iteration\n",
    "- Fetch agent hyperparameters from RL Zoo\n",
    "- Consider a different training structure, where we train on many smaller rounds, perhaps spread out in time more.\n",
    "- Hyperparameter search\n",
    "- Build more advanced slippage handling\n",
    "- Correct for displaced index due to specified TI NaNs (likely uneccessary for all our use cases)\n",
    "- Get the available LSTM networks working and compare with MLP (tips: https://github.com/hill-a/stable-baselines/issues/646). NOTE: LSTMs also need state during prediction as well as proper env counts for train and test (https://github.com/hill-a/stable-baselines/issues/166 and https://stable-baselines.readthedocs.io/en/master/guide/examples.html#recurrent-policies). Also: https://github.com/hill-a/stable-baselines/issues/308\n",
    "- Understand more advanced custom policy networks better. See for exampåle  discussion here (and elsewhere among Issues: https://github.com/hill-a/stable-baselines/issues/759, https://github.com/hill-a/stable-baselines/issues/278, https://github.com/hill-a/stable-baselines/issues/646)\n",
    "- Check float number type\n",
    "\n",
    "\n",
    "\n",
    "# DONE: \n",
    "- add config\n",
    "- modularize rewards\n",
    "- own actions\n",
    "- add more detailed actions for buy and sell amounts (discrete)\n",
    "- wrapped running code in function in main.py (to enable more dynamic data loading and train/test)\n",
    "- own observations\n",
    "- remove the bias when getting the observations (suggestion in the repo issues)\n",
    "- download more interesting data and manually preprocess\n",
    "- load interesting data, specified in config\n",
    "- understand the time steps in learn and predict\n",
    "- setup basic monitoring of training using TensorBoard\n",
    "- Visualize basic performance\n",
    "- Add support for fractions of shares\n",
    "- Understand what should belong in what timestep (also decide on which price to plot as a result)\n",
    "- add distributions of actions as output during prediction\n",
    "- Refactor `_take_action` (might be something off in some calculations, also update terminology)\n",
    "- Add commission and slippage\n",
    "- Refactor current reward and add some new ones\n",
    "- Add smallest amount of bitcoin we can own, as well as trading precision\n",
    "- Add portfolio features\n",
    "- Add reward output\n",
    "- setup train/test functionality\n",
    "- Enable saving/loading trained models\n",
    "- Normalize observations\n",
    "- Add env checker (disbled by default, but passed)\n",
    "- lock down the seeds\n",
    "- Add finer temporal resolution in data (minute granularity)\n",
    "- Add support for higher frequency data: NaN handling and pushed starting timestamp\n",
    "- Add technical indicator features\n",
    "- Add benchmarks\n",
    "- Add dynamic data download and preparation by downloading all transactions -> render OHLC in multiple time granularities\n",
    "- Add full support for multiprocessing\n",
    "- Suppress tensorflow warnings\n",
    "- Substantial time optimizations to avoid growing time per iteration of training\n",
    "- Substantial memory savings from only saving data we need during training\n",
    "- Added flag to refresh data\n",
    "- No data copy when building Docker cotainer -- MUCH faster Docker builds\n",
    "- Properly save model, normalization statistics, and some useful meta data\n",
    "- Save result plots from prediction in model folders\n",
    "- The reward range is reward specific\n",
    "- Refactored the trading class: decreased complexity and duplicate calculations\n",
    "- Proper commission and slippage support (beta distr for slippage)\n",
    "- Revisited TIs: added TI features and a forward looking check\n",
    "- Restructured trade code, and added absolute trade values as config option"
   ]
  },
  {
   "cell_type": "markdown",
   "metadata": {},
   "source": [
    "# Run"
   ]
  },
  {
   "cell_type": "code",
   "execution_count": 2,
   "metadata": {},
   "outputs": [],
   "source": [
    "record_steptime = False\n",
    "force_refresh = False"
   ]
  },
  {
   "cell_type": "code",
   "execution_count": null,
   "metadata": {},
   "outputs": [
    {
     "name": "stdout",
     "output_type": "stream",
     "text": [
      "Processed data available locally, no downloading and raw data processing needed.\n",
      "LOAD: Loading data with 4363457 samples\n",
      "PREPROCESS: Dropping 1236977 NaNs out of 4363457 samples (28.35%) from input file\n",
      "PREPROCESS: Dropping unused data, 3126480 -> 1550010 samples\n",
      "PREPROCESS: Performing check of forward lookingness of TIs\n",
      "PREPROCESS: Adding technical features...\n"
     ]
    }
   ],
   "source": [
    "%%time\n",
    "data_raw.download_and_process(force_refresh=force_refresh)\n",
    "df = load.load_OHLC_data()\n",
    "df = preprocess.preprocess_data(df=df, include_slow_features=False)\n",
    "\n",
    "config.n_cpu=8\n",
    "env = run.setup_env(df=df, record_steptime=record_steptime)"
   ]
  },
  {
   "cell_type": "code",
   "execution_count": null,
   "metadata": {},
   "outputs": [],
   "source": [
    "# EXPERIMENT: with only gentle commission AND new TIs AND 10 data_n_timesteps AND minute granularity AND absolute trades"
   ]
  },
  {
   "cell_type": "code",
   "execution_count": null,
   "metadata": {
    "scrolled": false
   },
   "outputs": [],
   "source": [
    "%%time\n",
    "model = run.train(env=env, n_infoboxes=10)\n",
    "if record_steptime:\n",
    "    create_timedelta_and_plot(model=model)"
   ]
  },
  {
   "cell_type": "code",
   "execution_count": null,
   "metadata": {
    "scrolled": false
   },
   "outputs": [],
   "source": [
    "%%time\n",
    "run.predict(df=df, rendermode='plots')"
   ]
  },
  {
   "cell_type": "code",
   "execution_count": null,
   "metadata": {},
   "outputs": [],
   "source": []
  },
  {
   "cell_type": "code",
   "execution_count": 7,
   "metadata": {},
   "outputs": [
    {
     "data": {
      "text/plain": [
       "{'current_step': 23365346,\n",
       " 'net_worths': [10000,\n",
       "  9995.01,\n",
       "  9994.69,\n",
       "  9995.316,\n",
       "  9995.405,\n",
       "  9997.328,\n",
       "  9995.358,\n",
       "  9994.763,\n",
       "  9995.814,\n",
       "  9994.53,\n",
       "  9996.954,\n",
       "  9994.869,\n",
       "  9995.292,\n",
       "  10000.79,\n",
       "  9995.913,\n",
       "  9995.546,\n",
       "  9996.759,\n",
       "  9996.863,\n",
       "  9996.635,\n",
       "  9998.643,\n",
       "  9999.586],\n",
       " 'trades': [{'step': 23365326,\n",
       "   'amount': 0.23513827,\n",
       "   'total': 2500.0,\n",
       "   'type': 'buy',\n",
       "   'action_amount': 0.25},\n",
       "  {'step': 23365327,\n",
       "   'amount': None,\n",
       "   'total': None,\n",
       "   'type': 'hold',\n",
       "   'action_amount': None},\n",
       "  {'step': 23365328,\n",
       "   'amount': None,\n",
       "   'total': None,\n",
       "   'type': 'hold',\n",
       "   'action_amount': None},\n",
       "  {'step': 23365329,\n",
       "   'amount': None,\n",
       "   'total': None,\n",
       "   'type': 'hold',\n",
       "   'action_amount': None},\n",
       "  {'step': 23365330,\n",
       "   'amount': None,\n",
       "   'total': None,\n",
       "   'type': 'hold',\n",
       "   'action_amount': None},\n",
       "  {'step': 23365331,\n",
       "   'amount': None,\n",
       "   'total': None,\n",
       "   'type': 'hold',\n",
       "   'action_amount': None},\n",
       "  {'step': 23365332,\n",
       "   'amount': None,\n",
       "   'total': None,\n",
       "   'type': 'hold',\n",
       "   'action_amount': None},\n",
       "  {'step': 23365333,\n",
       "   'amount': None,\n",
       "   'total': None,\n",
       "   'type': 'hold',\n",
       "   'action_amount': None},\n",
       "  {'step': 23365334,\n",
       "   'amount': None,\n",
       "   'total': None,\n",
       "   'type': 'hold',\n",
       "   'action_amount': None},\n",
       "  {'step': 23365335,\n",
       "   'amount': None,\n",
       "   'total': None,\n",
       "   'type': 'hold',\n",
       "   'action_amount': None},\n",
       "  {'step': 23365336,\n",
       "   'amount': None,\n",
       "   'total': None,\n",
       "   'type': 'hold',\n",
       "   'action_amount': None},\n",
       "  {'step': 23365337,\n",
       "   'amount': None,\n",
       "   'total': None,\n",
       "   'type': 'hold',\n",
       "   'action_amount': None},\n",
       "  {'step': 23365338,\n",
       "   'amount': None,\n",
       "   'total': None,\n",
       "   'type': 'hold',\n",
       "   'action_amount': None},\n",
       "  {'step': 23365339,\n",
       "   'amount': None,\n",
       "   'total': None,\n",
       "   'type': 'hold',\n",
       "   'action_amount': None},\n",
       "  {'step': 23365340,\n",
       "   'amount': None,\n",
       "   'total': None,\n",
       "   'type': 'hold',\n",
       "   'action_amount': None},\n",
       "  {'step': 23365341,\n",
       "   'amount': None,\n",
       "   'total': None,\n",
       "   'type': 'hold',\n",
       "   'action_amount': None},\n",
       "  {'step': 23365342,\n",
       "   'amount': None,\n",
       "   'total': None,\n",
       "   'type': 'hold',\n",
       "   'action_amount': None},\n",
       "  {'step': 23365343,\n",
       "   'amount': None,\n",
       "   'total': None,\n",
       "   'type': 'hold',\n",
       "   'action_amount': None},\n",
       "  {'step': 23365344,\n",
       "   'amount': None,\n",
       "   'total': None,\n",
       "   'type': 'hold',\n",
       "   'action_amount': None},\n",
       "  {'step': 23365345,\n",
       "   'amount': None,\n",
       "   'total': None,\n",
       "   'type': 'hold',\n",
       "   'action_amount': None}],\n",
       " 'returns': [0,\n",
       "  -0.0004989999999500781,\n",
       "  -3.2015975968777716e-05,\n",
       "  6.263325825388985e-05,\n",
       "  8.904170712665573e-06,\n",
       "  0.00019238840245157414,\n",
       "  -0.0001970526524489636,\n",
       "  -5.952763272109088e-05,\n",
       "  0.00010515506969943369,\n",
       "  -0.0001284537707355496,\n",
       "  0.00024253266534359652,\n",
       "  -0.00020856352842981606,\n",
       "  4.232171526775821e-05,\n",
       "  0.0005500589677071317,\n",
       "  -0.00048766147469477363,\n",
       "  -3.671500541906218e-05,\n",
       "  0.0001213540510821904,\n",
       "  1.040337173167387e-05,\n",
       "  -2.280715460203354e-05,\n",
       "  0.00020086759192457693,\n",
       "  9.431279823721966e-05],\n",
       " 'account_history':    balance  asset_held  asset_bought  purchase_cost  asset_sold  sale_revenue\n",
       " 0  10000.0    0.000000      0.000000            0.0           0             0\n",
       " 0   7500.0    0.235138      0.235138         2500.0           0             0\n",
       " 0   7500.0    0.235138      0.000000            0.0           0             0\n",
       " 0   7500.0    0.235138      0.000000            0.0           0             0\n",
       " 0   7500.0    0.235138      0.000000            0.0           0             0\n",
       " 0   7500.0    0.235138      0.000000            0.0           0             0\n",
       " 0   7500.0    0.235138      0.000000            0.0           0             0\n",
       " 0   7500.0    0.235138      0.000000            0.0           0             0\n",
       " 0   7500.0    0.235138      0.000000            0.0           0             0\n",
       " 0   7500.0    0.235138      0.000000            0.0           0             0\n",
       " 0   7500.0    0.235138      0.000000            0.0           0             0\n",
       " 0   7500.0    0.235138      0.000000            0.0           0             0\n",
       " 0   7500.0    0.235138      0.000000            0.0           0             0\n",
       " 0   7500.0    0.235138      0.000000            0.0           0             0\n",
       " 0   7500.0    0.235138      0.000000            0.0           0             0\n",
       " 0   7500.0    0.235138      0.000000            0.0           0             0\n",
       " 0   7500.0    0.235138      0.000000            0.0           0             0\n",
       " 0   7500.0    0.235138      0.000000            0.0           0             0\n",
       " 0   7500.0    0.235138      0.000000            0.0           0             0\n",
       " 0   7500.0    0.235138      0.000000            0.0           0             0\n",
       " 0   7500.0    0.235138      0.000000            0.0           0             0,\n",
       " 'rewards': [-0.7071047771842108,\n",
       "  -0.5171704106450127,\n",
       "  -0.022499640550915318,\n",
       "  -0.01861189788346856,\n",
       "  -0.005321282541311107,\n",
       "  -0.008125270251776453,\n",
       "  -0.0082125176536083,\n",
       "  -0.005810761663444563,\n",
       "  -0.006947043757195115,\n",
       "  -0.0030271566103867507,\n",
       "  -0.004735707613452041,\n",
       "  -0.00409096231918954,\n",
       "  0.00046419755618168276,\n",
       "  -0.002254797343707131,\n",
       "  -0.002330458757328363,\n",
       "  -0.001617101279060783,\n",
       "  -0.001494530262079394,\n",
       "  -0.001533617328592901,\n",
       "  -0.0005866921506127211,\n",
       "  -0.00017095273607833325]}"
      ]
     },
     "execution_count": 7,
     "metadata": {},
     "output_type": "execute_result"
    }
   ],
   "source": [
    "import pickle\n",
    "with open('all_dict_pred.pickle', 'rb') as f:\n",
    "    x = pickle.load(f)\n",
    "x"
   ]
  },
  {
   "cell_type": "code",
   "execution_count": 7,
   "metadata": {},
   "outputs": [
    {
     "data": {
      "text/plain": [
       "dict_keys(['current_step', 'net_worths', 'trades', 'returns', 'account_history', 'rewards'])"
      ]
     },
     "execution_count": 7,
     "metadata": {},
     "output_type": "execute_result"
    }
   ],
   "source": [
    "x.keys()"
   ]
  },
  {
   "cell_type": "code",
   "execution_count": 5,
   "metadata": {},
   "outputs": [
    {
     "data": {
      "text/plain": [
       "array([ 200.,  800., 1400., 2000.])"
      ]
     },
     "execution_count": 5,
     "metadata": {},
     "output_type": "execute_result"
    }
   ],
   "source": [
    "import numpy as np\n",
    "np.linspace(config.trade.min_absolute_trade_value, config.trade.max_absolute_trade_value, config.action_strategy.n_value_bins)"
   ]
  },
  {
   "cell_type": "code",
   "execution_count": 2,
   "metadata": {},
   "outputs": [],
   "source": [
    "from src.env.trade.TradeStrategies import TradeStrategyAbsolute"
   ]
  },
  {
   "cell_type": "code",
   "execution_count": 3,
   "metadata": {},
   "outputs": [],
   "source": [
    "trade_strategy = TradeStrategyAbsolute()"
   ]
  },
  {
   "cell_type": "code",
   "execution_count": 7,
   "metadata": {},
   "outputs": [
    {
     "name": "stdout",
     "output_type": "stream",
     "text": [
      "0: ('buy', 0.02631579)\n",
      "1: ('buy', 0.10526316)\n",
      "2: ('buy', 0.18421053)\n",
      "3: ('buy', 0.26315789)\n",
      "4: ('sell', 0.02631579)\n",
      "5: ('sell', 0.10526316)\n",
      "6: ('sell', 0.18421053)\n",
      "7: ('sell', 0.26315789)\n",
      "8: ('hold', None)\n"
     ]
    }
   ],
   "source": [
    "for n in range(0,9):\n",
    "    print(f'{n}: {trade_strategy._translate_action(n, 7600)}')\n",
    "    "
   ]
  },
  {
   "cell_type": "markdown",
   "metadata": {},
   "source": [
    "# TODO action class:\n",
    "- align currencies -- now absolute class returns USD and ratio class BTC\n",
    "- test\n",
    "- move choice to config\n",
    "- feel good about yourself -- one step closer to OOP heaven."
   ]
  },
  {
   "cell_type": "code",
   "execution_count": 7,
   "metadata": {},
   "outputs": [],
   "source": [
    "import matplotlib\n",
    "cmap = matplotlib.cm.get_cmap('Greens')"
   ]
  },
  {
   "cell_type": "code",
   "execution_count": 11,
   "metadata": {},
   "outputs": [
    {
     "data": {
      "text/plain": [
       "(0.9664129181084199, 0.9873740868896579, 0.9582006920415225, 1.0)"
      ]
     },
     "execution_count": 11,
     "metadata": {},
     "output_type": "execute_result"
    }
   ],
   "source": [
    "cmap(1)"
   ]
  },
  {
   "cell_type": "code",
   "execution_count": null,
   "metadata": {},
   "outputs": [],
   "source": []
  }
 ],
 "metadata": {
  "kernelspec": {
   "display_name": "Python 3",
   "language": "python",
   "name": "python3"
  },
  "language_info": {
   "codemirror_mode": {
    "name": "ipython",
    "version": 3
   },
   "file_extension": ".py",
   "mimetype": "text/x-python",
   "name": "python",
   "nbconvert_exporter": "python",
   "pygments_lexer": "ipython3",
   "version": "3.7.3"
  },
  "toc": {
   "base_numbering": 1,
   "nav_menu": {},
   "number_sections": true,
   "sideBar": true,
   "skip_h1_title": false,
   "title_cell": "Table of Contents",
   "title_sidebar": "Contents",
   "toc_cell": false,
   "toc_position": {},
   "toc_section_display": true,
   "toc_window_display": true
  }
 },
 "nbformat": 4,
 "nbformat_minor": 2
}

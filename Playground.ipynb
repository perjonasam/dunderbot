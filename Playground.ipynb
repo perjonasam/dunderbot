{
 "cells": [
  {
   "cell_type": "code",
   "execution_count": null,
   "metadata": {},
   "outputs": [],
   "source": [
    "import tensortrade\n",
    "\n",
    "# TODO, in order:\n",
    "\n",
    "- import tensortrade exchange with real data\n",
    "- import an ActionScheme\n",
    "- import a RewardScheme\n",
    "- setup a TradingEnvironment\n",
    "- get it to run\n",
    "- add FeaturePipeline\n",
    "- see if any technical indicators features are readily available\n",
    "- mess about with the model, to see how flexible tensortrade is\n",
    "- after you've learned all you need, dump tensortrade and build your own custom gym\n",
    "\n",
    "\n",
    "import ccxt\n",
    "from tensortrade.exchanges.live import CCXTExchange\n",
    "coinbase = ccxt.coinbasepro()\n",
    "exchange = CCXTExchange(exchange=coinbase, base_instrument='USD')\n",
    "\n",
    "from tensortrade.exchanges.simulated import FBMExchange\n",
    "from tensortrade.features.scalers import MinMaxNormalizer\n",
    "from tensortrade.features.stationarity import FractionalDifference\n",
    "from tensortrade.features import FeaturePipeline\n",
    "from tensortrade.rewards import SimpleProfit\n",
    "from tensortrade.actions import DiscreteActions\n",
    "from tensortrade.environments import TradingEnvironment\n",
    "normalize_price = MinMaxNormalizer([\"open\", \"high\", \"low\", \"close\"])\n",
    "difference = FractionalDifference(difference_order=0.6)\n",
    "feature_pipeline = FeaturePipeline(steps=[normalize_price, \n",
    "                                          difference])\n",
    "exchange = FBMExchange(timeframe='1h',\n",
    "                       base_instrument='BTC',\n",
    "                       feature_pipeline=feature_pipeline)\n",
    "reward_scheme = SimpleProfit()\n",
    "action_scheme = DiscreteActions(n_actions=20, \n",
    "                                instrument_symbol='ETH/BTC')\n",
    "environment = TradingEnvironment(exchange=exchange,\n",
    "                                 action_scheme=action_scheme,\n",
    "                                 reward_scheme=reward_scheme,\n",
    "                                 feature_pipeline=feature_pipeline)\n",
    "\n",
    "from tensortrade.strategies import StableBaselinesTradingStrategy\n",
    "strategy = StableBaselinesTradingStrategy(environment=environment,\n",
    "                                          model=model,\n",
    "                                          policy=policy,\n",
    "                                          model_kwargs=params)\n",
    "\n",
    "performance = strategy.run(steps=1000,\n",
    "                           episode_callback=stop_early_callback)\n",
    "\n"
   ]
  }
 ],
 "metadata": {
  "kernelspec": {
   "display_name": "Python 3",
   "language": "python",
   "name": "python3"
  },
  "language_info": {
   "codemirror_mode": {
    "name": "ipython",
    "version": 3
   },
   "file_extension": ".py",
   "mimetype": "text/x-python",
   "name": "python",
   "nbconvert_exporter": "python",
   "pygments_lexer": "ipython3",
   "version": "3.6.7"
  },
  "toc": {
   "base_numbering": 1,
   "nav_menu": {},
   "number_sections": true,
   "sideBar": true,
   "skip_h1_title": false,
   "title_cell": "Table of Contents",
   "title_sidebar": "Contents",
   "toc_cell": false,
   "toc_position": {},
   "toc_section_display": true,
   "toc_window_display": true
  }
 },
 "nbformat": 4,
 "nbformat_minor": 2
}
